{
  "nbformat": 4,
  "nbformat_minor": 0,
  "metadata": {
    "kernelspec": {
      "display_name": "Python 3",
      "language": "python",
      "name": "python3"
    },
    "language_info": {
      "name": "python",
      "version": "3.6.6",
      "mimetype": "text/x-python",
      "codemirror_mode": {
        "name": "ipython",
        "version": 3
      },
      "pygments_lexer": "ipython3",
      "nbconvert_exporter": "python",
      "file_extension": ".py"
    },
    "colab": {
      "name": "gender-recognition-by-voice-with-python.ipynb",
      "provenance": [],
      "collapsed_sections": []
    }
  },
  "cells": [
    {
      "cell_type": "markdown",
      "metadata": {
        "_uuid": "dd4ba8058395bd3c8905074f9955f7e3ab30109a",
        "id": "PIbkvTqiV2Lz"
      },
      "source": [
        "K-Nearest Neighbors  \n",
        "Naive Bayes  \n",
        "Decision Tree  \n",
        "Random Forest  \n",
        "XgBoost  \n",
        "Support Vector Machine  \n",
        "Neural Network"
      ]
    },
    {
      "cell_type": "code",
      "metadata": {
        "_uuid": "8f2839f25d086af736a60e9eeb907d3b93b6e0e5",
        "_cell_guid": "b1076dfc-b9ad-4769-8c92-a6c4dae69d19",
        "trusted": true,
        "id": "lCnTymAoV2L2"
      },
      "source": [
        "# This Python 3 environment comes with many helpful analytics libraries installed\n",
        "# It is defined by the kaggle/python docker image: https://github.com/kaggle/docker-python\n",
        "# For example, here's several helpful packages to load in \n",
        "\n",
        "import numpy as np # linear algebra\n",
        "import pandas as pd # data processing, CSV file I/O (e.g. pd.read_csv)\n",
        "\n",
        "# Input data files are available in the \"../input/\" directory.\n",
        "# For example, running this (by clicking run or pressing Shift+Enter) will list the files in the input directory\n",
        "\n",
        "import os\n",
        "#print(os.listdir(\"../input\"))\n",
        "\n",
        "# Any results you write to the current directory are saved as output."
      ],
      "execution_count": 2,
      "outputs": []
    },
    {
      "cell_type": "code",
      "metadata": {
        "_cell_guid": "79c7e3d0-c299-4dcb-8224-4455121ee9b0",
        "_uuid": "d629ff2d2480ee46fbb7e2d37f6b5fab8052498a",
        "trusted": true,
        "colab": {
          "base_uri": "https://localhost:8080/",
          "height": 222
        },
        "id": "g6n01nDuV2L3",
        "outputId": "d01382b6-a6e5-4adc-fd96-51807220b257"
      },
      "source": [
        "import warnings\n",
        "warnings.filterwarnings('ignore')\n",
        "# read file\n",
        "#voice=pd.read_csv('../input/voice.csv')\n",
        "voice=pd.read_csv('voice.csv')\n",
        "voice.head()"
      ],
      "execution_count": 3,
      "outputs": [
        {
          "output_type": "execute_result",
          "data": {
            "text/html": [
              "<div>\n",
              "<style scoped>\n",
              "    .dataframe tbody tr th:only-of-type {\n",
              "        vertical-align: middle;\n",
              "    }\n",
              "\n",
              "    .dataframe tbody tr th {\n",
              "        vertical-align: top;\n",
              "    }\n",
              "\n",
              "    .dataframe thead th {\n",
              "        text-align: right;\n",
              "    }\n",
              "</style>\n",
              "<table border=\"1\" class=\"dataframe\">\n",
              "  <thead>\n",
              "    <tr style=\"text-align: right;\">\n",
              "      <th></th>\n",
              "      <th>meanfreq</th>\n",
              "      <th>sd</th>\n",
              "      <th>median</th>\n",
              "      <th>Q25</th>\n",
              "      <th>Q75</th>\n",
              "      <th>IQR</th>\n",
              "      <th>skew</th>\n",
              "      <th>kurt</th>\n",
              "      <th>sp.ent</th>\n",
              "      <th>sfm</th>\n",
              "      <th>mode</th>\n",
              "      <th>centroid</th>\n",
              "      <th>meanfun</th>\n",
              "      <th>minfun</th>\n",
              "      <th>maxfun</th>\n",
              "      <th>meandom</th>\n",
              "      <th>mindom</th>\n",
              "      <th>maxdom</th>\n",
              "      <th>dfrange</th>\n",
              "      <th>modindx</th>\n",
              "      <th>label</th>\n",
              "    </tr>\n",
              "  </thead>\n",
              "  <tbody>\n",
              "    <tr>\n",
              "      <th>0</th>\n",
              "      <td>0.059781</td>\n",
              "      <td>0.064241</td>\n",
              "      <td>0.032027</td>\n",
              "      <td>0.015071</td>\n",
              "      <td>0.090193</td>\n",
              "      <td>0.075122</td>\n",
              "      <td>12.863462</td>\n",
              "      <td>274.402906</td>\n",
              "      <td>0.893369</td>\n",
              "      <td>0.491918</td>\n",
              "      <td>0.000000</td>\n",
              "      <td>0.059781</td>\n",
              "      <td>0.084279</td>\n",
              "      <td>0.015702</td>\n",
              "      <td>0.275862</td>\n",
              "      <td>0.007812</td>\n",
              "      <td>0.007812</td>\n",
              "      <td>0.007812</td>\n",
              "      <td>0.000000</td>\n",
              "      <td>0.000000</td>\n",
              "      <td>male</td>\n",
              "    </tr>\n",
              "    <tr>\n",
              "      <th>1</th>\n",
              "      <td>0.066009</td>\n",
              "      <td>0.067310</td>\n",
              "      <td>0.040229</td>\n",
              "      <td>0.019414</td>\n",
              "      <td>0.092666</td>\n",
              "      <td>0.073252</td>\n",
              "      <td>22.423285</td>\n",
              "      <td>634.613855</td>\n",
              "      <td>0.892193</td>\n",
              "      <td>0.513724</td>\n",
              "      <td>0.000000</td>\n",
              "      <td>0.066009</td>\n",
              "      <td>0.107937</td>\n",
              "      <td>0.015826</td>\n",
              "      <td>0.250000</td>\n",
              "      <td>0.009014</td>\n",
              "      <td>0.007812</td>\n",
              "      <td>0.054688</td>\n",
              "      <td>0.046875</td>\n",
              "      <td>0.052632</td>\n",
              "      <td>male</td>\n",
              "    </tr>\n",
              "    <tr>\n",
              "      <th>2</th>\n",
              "      <td>0.077316</td>\n",
              "      <td>0.083829</td>\n",
              "      <td>0.036718</td>\n",
              "      <td>0.008701</td>\n",
              "      <td>0.131908</td>\n",
              "      <td>0.123207</td>\n",
              "      <td>30.757155</td>\n",
              "      <td>1024.927705</td>\n",
              "      <td>0.846389</td>\n",
              "      <td>0.478905</td>\n",
              "      <td>0.000000</td>\n",
              "      <td>0.077316</td>\n",
              "      <td>0.098706</td>\n",
              "      <td>0.015656</td>\n",
              "      <td>0.271186</td>\n",
              "      <td>0.007990</td>\n",
              "      <td>0.007812</td>\n",
              "      <td>0.015625</td>\n",
              "      <td>0.007812</td>\n",
              "      <td>0.046512</td>\n",
              "      <td>male</td>\n",
              "    </tr>\n",
              "    <tr>\n",
              "      <th>3</th>\n",
              "      <td>0.151228</td>\n",
              "      <td>0.072111</td>\n",
              "      <td>0.158011</td>\n",
              "      <td>0.096582</td>\n",
              "      <td>0.207955</td>\n",
              "      <td>0.111374</td>\n",
              "      <td>1.232831</td>\n",
              "      <td>4.177296</td>\n",
              "      <td>0.963322</td>\n",
              "      <td>0.727232</td>\n",
              "      <td>0.083878</td>\n",
              "      <td>0.151228</td>\n",
              "      <td>0.088965</td>\n",
              "      <td>0.017798</td>\n",
              "      <td>0.250000</td>\n",
              "      <td>0.201497</td>\n",
              "      <td>0.007812</td>\n",
              "      <td>0.562500</td>\n",
              "      <td>0.554688</td>\n",
              "      <td>0.247119</td>\n",
              "      <td>male</td>\n",
              "    </tr>\n",
              "    <tr>\n",
              "      <th>4</th>\n",
              "      <td>0.135120</td>\n",
              "      <td>0.079146</td>\n",
              "      <td>0.124656</td>\n",
              "      <td>0.078720</td>\n",
              "      <td>0.206045</td>\n",
              "      <td>0.127325</td>\n",
              "      <td>1.101174</td>\n",
              "      <td>4.333713</td>\n",
              "      <td>0.971955</td>\n",
              "      <td>0.783568</td>\n",
              "      <td>0.104261</td>\n",
              "      <td>0.135120</td>\n",
              "      <td>0.106398</td>\n",
              "      <td>0.016931</td>\n",
              "      <td>0.266667</td>\n",
              "      <td>0.712812</td>\n",
              "      <td>0.007812</td>\n",
              "      <td>5.484375</td>\n",
              "      <td>5.476562</td>\n",
              "      <td>0.208274</td>\n",
              "      <td>male</td>\n",
              "    </tr>\n",
              "  </tbody>\n",
              "</table>\n",
              "</div>"
            ],
            "text/plain": [
              "   meanfreq        sd    median       Q25  ...    maxdom   dfrange   modindx  label\n",
              "0  0.059781  0.064241  0.032027  0.015071  ...  0.007812  0.000000  0.000000   male\n",
              "1  0.066009  0.067310  0.040229  0.019414  ...  0.054688  0.046875  0.052632   male\n",
              "2  0.077316  0.083829  0.036718  0.008701  ...  0.015625  0.007812  0.046512   male\n",
              "3  0.151228  0.072111  0.158011  0.096582  ...  0.562500  0.554688  0.247119   male\n",
              "4  0.135120  0.079146  0.124656  0.078720  ...  5.484375  5.476562  0.208274   male\n",
              "\n",
              "[5 rows x 21 columns]"
            ]
          },
          "metadata": {},
          "execution_count": 3
        }
      ]
    },
    {
      "cell_type": "code",
      "metadata": {
        "_uuid": "65467942b1dcc24d03e0ab21e8d037735c9a504a",
        "trusted": true,
        "colab": {
          "base_uri": "https://localhost:8080/"
        },
        "id": "PT_JvxJVV2L4",
        "outputId": "9facda38-b4e7-468b-917a-ae189cf47dbd"
      },
      "source": [
        "voice.info()"
      ],
      "execution_count": 4,
      "outputs": [
        {
          "output_type": "stream",
          "name": "stdout",
          "text": [
            "<class 'pandas.core.frame.DataFrame'>\n",
            "RangeIndex: 3168 entries, 0 to 3167\n",
            "Data columns (total 21 columns):\n",
            " #   Column    Non-Null Count  Dtype  \n",
            "---  ------    --------------  -----  \n",
            " 0   meanfreq  3168 non-null   float64\n",
            " 1   sd        3168 non-null   float64\n",
            " 2   median    3168 non-null   float64\n",
            " 3   Q25       3168 non-null   float64\n",
            " 4   Q75       3168 non-null   float64\n",
            " 5   IQR       3168 non-null   float64\n",
            " 6   skew      3168 non-null   float64\n",
            " 7   kurt      3168 non-null   float64\n",
            " 8   sp.ent    3168 non-null   float64\n",
            " 9   sfm       3168 non-null   float64\n",
            " 10  mode      3168 non-null   float64\n",
            " 11  centroid  3168 non-null   float64\n",
            " 12  meanfun   3168 non-null   float64\n",
            " 13  minfun    3168 non-null   float64\n",
            " 14  maxfun    3168 non-null   float64\n",
            " 15  meandom   3168 non-null   float64\n",
            " 16  mindom    3168 non-null   float64\n",
            " 17  maxdom    3168 non-null   float64\n",
            " 18  dfrange   3168 non-null   float64\n",
            " 19  modindx   3168 non-null   float64\n",
            " 20  label     3168 non-null   object \n",
            "dtypes: float64(20), object(1)\n",
            "memory usage: 519.9+ KB\n"
          ]
        }
      ]
    },
    {
      "cell_type": "code",
      "metadata": {
        "_uuid": "39e154cb54356acfac8c2edd1e565b42edf0b502",
        "trusted": true,
        "colab": {
          "base_uri": "https://localhost:8080/",
          "height": 314
        },
        "id": "lq5SI6HrV2L4",
        "outputId": "a04804dd-0bb0-4609-e759-093e07cda4dc"
      },
      "source": [
        "voice.describe()"
      ],
      "execution_count": 5,
      "outputs": [
        {
          "output_type": "execute_result",
          "data": {
            "text/html": [
              "<div>\n",
              "<style scoped>\n",
              "    .dataframe tbody tr th:only-of-type {\n",
              "        vertical-align: middle;\n",
              "    }\n",
              "\n",
              "    .dataframe tbody tr th {\n",
              "        vertical-align: top;\n",
              "    }\n",
              "\n",
              "    .dataframe thead th {\n",
              "        text-align: right;\n",
              "    }\n",
              "</style>\n",
              "<table border=\"1\" class=\"dataframe\">\n",
              "  <thead>\n",
              "    <tr style=\"text-align: right;\">\n",
              "      <th></th>\n",
              "      <th>meanfreq</th>\n",
              "      <th>sd</th>\n",
              "      <th>median</th>\n",
              "      <th>Q25</th>\n",
              "      <th>Q75</th>\n",
              "      <th>IQR</th>\n",
              "      <th>skew</th>\n",
              "      <th>kurt</th>\n",
              "      <th>sp.ent</th>\n",
              "      <th>sfm</th>\n",
              "      <th>mode</th>\n",
              "      <th>centroid</th>\n",
              "      <th>meanfun</th>\n",
              "      <th>minfun</th>\n",
              "      <th>maxfun</th>\n",
              "      <th>meandom</th>\n",
              "      <th>mindom</th>\n",
              "      <th>maxdom</th>\n",
              "      <th>dfrange</th>\n",
              "      <th>modindx</th>\n",
              "    </tr>\n",
              "  </thead>\n",
              "  <tbody>\n",
              "    <tr>\n",
              "      <th>count</th>\n",
              "      <td>3168.000000</td>\n",
              "      <td>3168.000000</td>\n",
              "      <td>3168.000000</td>\n",
              "      <td>3168.000000</td>\n",
              "      <td>3168.000000</td>\n",
              "      <td>3168.000000</td>\n",
              "      <td>3168.000000</td>\n",
              "      <td>3168.000000</td>\n",
              "      <td>3168.000000</td>\n",
              "      <td>3168.000000</td>\n",
              "      <td>3168.000000</td>\n",
              "      <td>3168.000000</td>\n",
              "      <td>3168.000000</td>\n",
              "      <td>3168.000000</td>\n",
              "      <td>3168.000000</td>\n",
              "      <td>3168.000000</td>\n",
              "      <td>3168.000000</td>\n",
              "      <td>3168.000000</td>\n",
              "      <td>3168.000000</td>\n",
              "      <td>3168.000000</td>\n",
              "    </tr>\n",
              "    <tr>\n",
              "      <th>mean</th>\n",
              "      <td>0.180907</td>\n",
              "      <td>0.057126</td>\n",
              "      <td>0.185621</td>\n",
              "      <td>0.140456</td>\n",
              "      <td>0.224765</td>\n",
              "      <td>0.084309</td>\n",
              "      <td>3.140168</td>\n",
              "      <td>36.568461</td>\n",
              "      <td>0.895127</td>\n",
              "      <td>0.408216</td>\n",
              "      <td>0.165282</td>\n",
              "      <td>0.180907</td>\n",
              "      <td>0.142807</td>\n",
              "      <td>0.036802</td>\n",
              "      <td>0.258842</td>\n",
              "      <td>0.829211</td>\n",
              "      <td>0.052647</td>\n",
              "      <td>5.047277</td>\n",
              "      <td>4.994630</td>\n",
              "      <td>0.173752</td>\n",
              "    </tr>\n",
              "    <tr>\n",
              "      <th>std</th>\n",
              "      <td>0.029918</td>\n",
              "      <td>0.016652</td>\n",
              "      <td>0.036360</td>\n",
              "      <td>0.048680</td>\n",
              "      <td>0.023639</td>\n",
              "      <td>0.042783</td>\n",
              "      <td>4.240529</td>\n",
              "      <td>134.928661</td>\n",
              "      <td>0.044980</td>\n",
              "      <td>0.177521</td>\n",
              "      <td>0.077203</td>\n",
              "      <td>0.029918</td>\n",
              "      <td>0.032304</td>\n",
              "      <td>0.019220</td>\n",
              "      <td>0.030077</td>\n",
              "      <td>0.525205</td>\n",
              "      <td>0.063299</td>\n",
              "      <td>3.521157</td>\n",
              "      <td>3.520039</td>\n",
              "      <td>0.119454</td>\n",
              "    </tr>\n",
              "    <tr>\n",
              "      <th>min</th>\n",
              "      <td>0.039363</td>\n",
              "      <td>0.018363</td>\n",
              "      <td>0.010975</td>\n",
              "      <td>0.000229</td>\n",
              "      <td>0.042946</td>\n",
              "      <td>0.014558</td>\n",
              "      <td>0.141735</td>\n",
              "      <td>2.068455</td>\n",
              "      <td>0.738651</td>\n",
              "      <td>0.036876</td>\n",
              "      <td>0.000000</td>\n",
              "      <td>0.039363</td>\n",
              "      <td>0.055565</td>\n",
              "      <td>0.009775</td>\n",
              "      <td>0.103093</td>\n",
              "      <td>0.007812</td>\n",
              "      <td>0.004883</td>\n",
              "      <td>0.007812</td>\n",
              "      <td>0.000000</td>\n",
              "      <td>0.000000</td>\n",
              "    </tr>\n",
              "    <tr>\n",
              "      <th>25%</th>\n",
              "      <td>0.163662</td>\n",
              "      <td>0.041954</td>\n",
              "      <td>0.169593</td>\n",
              "      <td>0.111087</td>\n",
              "      <td>0.208747</td>\n",
              "      <td>0.042560</td>\n",
              "      <td>1.649569</td>\n",
              "      <td>5.669547</td>\n",
              "      <td>0.861811</td>\n",
              "      <td>0.258041</td>\n",
              "      <td>0.118016</td>\n",
              "      <td>0.163662</td>\n",
              "      <td>0.116998</td>\n",
              "      <td>0.018223</td>\n",
              "      <td>0.253968</td>\n",
              "      <td>0.419828</td>\n",
              "      <td>0.007812</td>\n",
              "      <td>2.070312</td>\n",
              "      <td>2.044922</td>\n",
              "      <td>0.099766</td>\n",
              "    </tr>\n",
              "    <tr>\n",
              "      <th>50%</th>\n",
              "      <td>0.184838</td>\n",
              "      <td>0.059155</td>\n",
              "      <td>0.190032</td>\n",
              "      <td>0.140286</td>\n",
              "      <td>0.225684</td>\n",
              "      <td>0.094280</td>\n",
              "      <td>2.197101</td>\n",
              "      <td>8.318463</td>\n",
              "      <td>0.901767</td>\n",
              "      <td>0.396335</td>\n",
              "      <td>0.186599</td>\n",
              "      <td>0.184838</td>\n",
              "      <td>0.140519</td>\n",
              "      <td>0.046110</td>\n",
              "      <td>0.271186</td>\n",
              "      <td>0.765795</td>\n",
              "      <td>0.023438</td>\n",
              "      <td>4.992188</td>\n",
              "      <td>4.945312</td>\n",
              "      <td>0.139357</td>\n",
              "    </tr>\n",
              "    <tr>\n",
              "      <th>75%</th>\n",
              "      <td>0.199146</td>\n",
              "      <td>0.067020</td>\n",
              "      <td>0.210618</td>\n",
              "      <td>0.175939</td>\n",
              "      <td>0.243660</td>\n",
              "      <td>0.114175</td>\n",
              "      <td>2.931694</td>\n",
              "      <td>13.648905</td>\n",
              "      <td>0.928713</td>\n",
              "      <td>0.533676</td>\n",
              "      <td>0.221104</td>\n",
              "      <td>0.199146</td>\n",
              "      <td>0.169581</td>\n",
              "      <td>0.047904</td>\n",
              "      <td>0.277457</td>\n",
              "      <td>1.177166</td>\n",
              "      <td>0.070312</td>\n",
              "      <td>7.007812</td>\n",
              "      <td>6.992188</td>\n",
              "      <td>0.209183</td>\n",
              "    </tr>\n",
              "    <tr>\n",
              "      <th>max</th>\n",
              "      <td>0.251124</td>\n",
              "      <td>0.115273</td>\n",
              "      <td>0.261224</td>\n",
              "      <td>0.247347</td>\n",
              "      <td>0.273469</td>\n",
              "      <td>0.252225</td>\n",
              "      <td>34.725453</td>\n",
              "      <td>1309.612887</td>\n",
              "      <td>0.981997</td>\n",
              "      <td>0.842936</td>\n",
              "      <td>0.280000</td>\n",
              "      <td>0.251124</td>\n",
              "      <td>0.237636</td>\n",
              "      <td>0.204082</td>\n",
              "      <td>0.279114</td>\n",
              "      <td>2.957682</td>\n",
              "      <td>0.458984</td>\n",
              "      <td>21.867188</td>\n",
              "      <td>21.843750</td>\n",
              "      <td>0.932374</td>\n",
              "    </tr>\n",
              "  </tbody>\n",
              "</table>\n",
              "</div>"
            ],
            "text/plain": [
              "          meanfreq           sd  ...      dfrange      modindx\n",
              "count  3168.000000  3168.000000  ...  3168.000000  3168.000000\n",
              "mean      0.180907     0.057126  ...     4.994630     0.173752\n",
              "std       0.029918     0.016652  ...     3.520039     0.119454\n",
              "min       0.039363     0.018363  ...     0.000000     0.000000\n",
              "25%       0.163662     0.041954  ...     2.044922     0.099766\n",
              "50%       0.184838     0.059155  ...     4.945312     0.139357\n",
              "75%       0.199146     0.067020  ...     6.992188     0.209183\n",
              "max       0.251124     0.115273  ...    21.843750     0.932374\n",
              "\n",
              "[8 rows x 20 columns]"
            ]
          },
          "metadata": {},
          "execution_count": 5
        }
      ]
    },
    {
      "cell_type": "markdown",
      "metadata": {
        "_uuid": "5966f35aea13387065d525aabdcceaa809e08eeb",
        "id": "Oyh_tLJ4V2L5"
      },
      "source": [
        "Preprocessing: label encoder and normalization"
      ]
    },
    {
      "cell_type": "code",
      "metadata": {
        "_uuid": "523e9d19559457ef6269c8ff9f68a1fd15a6a3fe",
        "trusted": true,
        "colab": {
          "base_uri": "https://localhost:8080/"
        },
        "id": "yTl5t7awV2L5",
        "outputId": "c35b2be8-0817-4ade-c13a-e18afab14f62"
      },
      "source": [
        "from sklearn import preprocessing\n",
        "le = preprocessing.LabelEncoder()\n",
        "voice[\"label\"] = le.fit_transform(voice[\"label\"])\n",
        "le.classes_"
      ],
      "execution_count": 6,
      "outputs": [
        {
          "output_type": "execute_result",
          "data": {
            "text/plain": [
              "array(['female', 'male'], dtype=object)"
            ]
          },
          "metadata": {},
          "execution_count": 6
        }
      ]
    },
    {
      "cell_type": "code",
      "metadata": {
        "_uuid": "dacdfb24e542b09bfacbf9dd9dfe497b630c02d1",
        "trusted": true,
        "colab": {
          "base_uri": "https://localhost:8080/",
          "height": 222
        },
        "id": "8TEUfVSqV2L5",
        "outputId": "261fb7ff-479f-4b1b-d7c6-a59dbcc3b9da"
      },
      "source": [
        "voice[:]=preprocessing.MinMaxScaler().fit_transform(voice)\n",
        "voice.head()"
      ],
      "execution_count": 7,
      "outputs": [
        {
          "output_type": "execute_result",
          "data": {
            "text/html": [
              "<div>\n",
              "<style scoped>\n",
              "    .dataframe tbody tr th:only-of-type {\n",
              "        vertical-align: middle;\n",
              "    }\n",
              "\n",
              "    .dataframe tbody tr th {\n",
              "        vertical-align: top;\n",
              "    }\n",
              "\n",
              "    .dataframe thead th {\n",
              "        text-align: right;\n",
              "    }\n",
              "</style>\n",
              "<table border=\"1\" class=\"dataframe\">\n",
              "  <thead>\n",
              "    <tr style=\"text-align: right;\">\n",
              "      <th></th>\n",
              "      <th>meanfreq</th>\n",
              "      <th>sd</th>\n",
              "      <th>median</th>\n",
              "      <th>Q25</th>\n",
              "      <th>Q75</th>\n",
              "      <th>IQR</th>\n",
              "      <th>skew</th>\n",
              "      <th>kurt</th>\n",
              "      <th>sp.ent</th>\n",
              "      <th>sfm</th>\n",
              "      <th>mode</th>\n",
              "      <th>centroid</th>\n",
              "      <th>meanfun</th>\n",
              "      <th>minfun</th>\n",
              "      <th>maxfun</th>\n",
              "      <th>meandom</th>\n",
              "      <th>mindom</th>\n",
              "      <th>maxdom</th>\n",
              "      <th>dfrange</th>\n",
              "      <th>modindx</th>\n",
              "      <th>label</th>\n",
              "    </tr>\n",
              "  </thead>\n",
              "  <tbody>\n",
              "    <tr>\n",
              "      <th>0</th>\n",
              "      <td>0.096419</td>\n",
              "      <td>0.473409</td>\n",
              "      <td>0.084125</td>\n",
              "      <td>0.060063</td>\n",
              "      <td>0.204956</td>\n",
              "      <td>0.254828</td>\n",
              "      <td>0.367853</td>\n",
              "      <td>0.208279</td>\n",
              "      <td>0.635798</td>\n",
              "      <td>0.564526</td>\n",
              "      <td>0.000000</td>\n",
              "      <td>0.096419</td>\n",
              "      <td>0.157706</td>\n",
              "      <td>0.030501</td>\n",
              "      <td>0.981526</td>\n",
              "      <td>0.000000</td>\n",
              "      <td>0.006452</td>\n",
              "      <td>0.000000</td>\n",
              "      <td>0.000000</td>\n",
              "      <td>0.000000</td>\n",
              "      <td>1.0</td>\n",
              "    </tr>\n",
              "    <tr>\n",
              "      <th>1</th>\n",
              "      <td>0.125828</td>\n",
              "      <td>0.505075</td>\n",
              "      <td>0.116900</td>\n",
              "      <td>0.077635</td>\n",
              "      <td>0.215683</td>\n",
              "      <td>0.246961</td>\n",
              "      <td>0.644279</td>\n",
              "      <td>0.483766</td>\n",
              "      <td>0.630964</td>\n",
              "      <td>0.591578</td>\n",
              "      <td>0.000000</td>\n",
              "      <td>0.125828</td>\n",
              "      <td>0.287642</td>\n",
              "      <td>0.031140</td>\n",
              "      <td>0.834600</td>\n",
              "      <td>0.000407</td>\n",
              "      <td>0.006452</td>\n",
              "      <td>0.002144</td>\n",
              "      <td>0.002146</td>\n",
              "      <td>0.056449</td>\n",
              "      <td>1.0</td>\n",
              "    </tr>\n",
              "    <tr>\n",
              "      <th>2</th>\n",
              "      <td>0.179222</td>\n",
              "      <td>0.675536</td>\n",
              "      <td>0.102873</td>\n",
              "      <td>0.034284</td>\n",
              "      <td>0.385912</td>\n",
              "      <td>0.457148</td>\n",
              "      <td>0.885255</td>\n",
              "      <td>0.782275</td>\n",
              "      <td>0.442738</td>\n",
              "      <td>0.548382</td>\n",
              "      <td>0.000000</td>\n",
              "      <td>0.179222</td>\n",
              "      <td>0.236945</td>\n",
              "      <td>0.030264</td>\n",
              "      <td>0.954963</td>\n",
              "      <td>0.000060</td>\n",
              "      <td>0.006452</td>\n",
              "      <td>0.000357</td>\n",
              "      <td>0.000358</td>\n",
              "      <td>0.049885</td>\n",
              "      <td>1.0</td>\n",
              "    </tr>\n",
              "    <tr>\n",
              "      <th>3</th>\n",
              "      <td>0.528261</td>\n",
              "      <td>0.554611</td>\n",
              "      <td>0.587559</td>\n",
              "      <td>0.389906</td>\n",
              "      <td>0.715802</td>\n",
              "      <td>0.407358</td>\n",
              "      <td>0.031549</td>\n",
              "      <td>0.001613</td>\n",
              "      <td>0.923261</td>\n",
              "      <td>0.856457</td>\n",
              "      <td>0.299565</td>\n",
              "      <td>0.528261</td>\n",
              "      <td>0.183442</td>\n",
              "      <td>0.041287</td>\n",
              "      <td>0.834600</td>\n",
              "      <td>0.065659</td>\n",
              "      <td>0.006452</td>\n",
              "      <td>0.025375</td>\n",
              "      <td>0.025393</td>\n",
              "      <td>0.265043</td>\n",
              "      <td>1.0</td>\n",
              "    </tr>\n",
              "    <tr>\n",
              "      <th>4</th>\n",
              "      <td>0.452195</td>\n",
              "      <td>0.627209</td>\n",
              "      <td>0.454272</td>\n",
              "      <td>0.317627</td>\n",
              "      <td>0.707515</td>\n",
              "      <td>0.474474</td>\n",
              "      <td>0.027742</td>\n",
              "      <td>0.001732</td>\n",
              "      <td>0.958736</td>\n",
              "      <td>0.926348</td>\n",
              "      <td>0.372362</td>\n",
              "      <td>0.452195</td>\n",
              "      <td>0.279190</td>\n",
              "      <td>0.036829</td>\n",
              "      <td>0.929285</td>\n",
              "      <td>0.238994</td>\n",
              "      <td>0.006452</td>\n",
              "      <td>0.250536</td>\n",
              "      <td>0.250715</td>\n",
              "      <td>0.223380</td>\n",
              "      <td>1.0</td>\n",
              "    </tr>\n",
              "  </tbody>\n",
              "</table>\n",
              "</div>"
            ],
            "text/plain": [
              "   meanfreq        sd    median       Q25  ...    maxdom   dfrange   modindx  label\n",
              "0  0.096419  0.473409  0.084125  0.060063  ...  0.000000  0.000000  0.000000    1.0\n",
              "1  0.125828  0.505075  0.116900  0.077635  ...  0.002144  0.002146  0.056449    1.0\n",
              "2  0.179222  0.675536  0.102873  0.034284  ...  0.000357  0.000358  0.049885    1.0\n",
              "3  0.528261  0.554611  0.587559  0.389906  ...  0.025375  0.025393  0.265043    1.0\n",
              "4  0.452195  0.627209  0.454272  0.317627  ...  0.250536  0.250715  0.223380    1.0\n",
              "\n",
              "[5 rows x 21 columns]"
            ]
          },
          "metadata": {},
          "execution_count": 7
        }
      ]
    },
    {
      "cell_type": "markdown",
      "metadata": {
        "_uuid": "588a134786db193657fb77b66b1db729b6918dc5",
        "id": "KteV7RXnV2L5"
      },
      "source": [
        "Visualization"
      ]
    },
    {
      "cell_type": "code",
      "metadata": {
        "_uuid": "1a6980e4e7cff1cf41c91df28d0163d30eaaf92a",
        "trusted": true,
        "colab": {
          "base_uri": "https://localhost:8080/",
          "height": 893
        },
        "id": "eeyq8yZsV2L6",
        "outputId": "1534a2ca-351a-4d09-d7ed-b39aa77173af"
      },
      "source": [
        "import seaborn as sns\n",
        "import matplotlib.pyplot as plt\n",
        "plt.subplots(4,5,figsize=(15,15))\n",
        "for i in range(1,21):\n",
        "    plt.subplot(4,5,i)\n",
        "    plt.title(voice.columns[i-1])\n",
        "    sns.kdeplot(voice.loc[voice['label'] == 0, voice.columns[i-1]], color= 'green', label='F')\n",
        "    sns.kdeplot(voice.loc[voice['label'] == 1, voice.columns[i-1]], color= 'blue', label='M')"
      ],
      "execution_count": 8,
      "outputs": [
        {
          "output_type": "display_data",
          "data": {
            "image/png": "[encoded data removed]",
            "text/plain": [
              "<Figure size 1080x1080 with 20 Axes>"
            ]
          },
          "metadata": {
            "needs_background": "light"
          }
        }
      ]
    },
    {
      "cell_type": "markdown",
      "metadata": {
        "_uuid": "21e6bee7bf4c73e4ded96b083658597cecd5490c",
        "trusted": true,
        "id": "cWL6NCIEV2L6"
      },
      "source": [
        "At first glance, most significant features are Q25, IQR and meanfun. We will build models by using the 20 features and the 3 distinct features."
      ]
    },
    {
      "cell_type": "markdown",
      "metadata": {
        "_uuid": "103c4db3fb2021b7883f65e9a97499a31c92b754",
        "trusted": true,
        "id": "mgW4N1SbV2L6"
      },
      "source": [
        "Using K-Nearest Neighbors, Naive Bayes, Decision Tree, Random Forest, XgBoost, Support Vector Machine, Neural Network to build models"
      ]
    },
    {
      "cell_type": "code",
      "metadata": {
        "_uuid": "62857eccdc345f3621d97ec92f97887ee07a3fdb",
        "trusted": true,
        "id": "ts5xdlD6V2L7"
      },
      "source": [
        "from sklearn import preprocessing\n",
        "from sklearn.model_selection import train_test_split\n",
        "from sklearn.metrics import accuracy_score\n",
        "\n",
        "from sklearn import neighbors\n",
        "from sklearn import naive_bayes\n",
        "from sklearn import tree\n",
        "from sklearn import ensemble\n",
        "from sklearn import svm\n",
        "from sklearn import neural_network\n",
        "import xgboost"
      ],
      "execution_count": 9,
      "outputs": []
    },
    {
      "cell_type": "code",
      "metadata": {
        "_uuid": "51f326d159e40eac6101da061535b117850a4db4",
        "trusted": true,
        "id": "6CXtDpMwV2L7"
      },
      "source": [
        "# Split the data\n",
        "train, test = train_test_split(voice, test_size=0.3)"
      ],
      "execution_count": 10,
      "outputs": []
    },
    {
      "cell_type": "code",
      "metadata": {
        "_uuid": "42dd77bdc5316b9c9c119ed1819081987c92160c",
        "trusted": true,
        "colab": {
          "base_uri": "https://localhost:8080/",
          "height": 222
        },
        "id": "sbJGg07qV2L7",
        "outputId": "b55875eb-fe31-41c7-ec44-72d53995e699"
      },
      "source": [
        "train.head()"
      ],
      "execution_count": 11,
      "outputs": [
        {
          "output_type": "execute_result",
          "data": {
            "text/html": [
              "<div>\n",
              "<style scoped>\n",
              "    .dataframe tbody tr th:only-of-type {\n",
              "        vertical-align: middle;\n",
              "    }\n",
              "\n",
              "    .dataframe tbody tr th {\n",
              "        vertical-align: top;\n",
              "    }\n",
              "\n",
              "    .dataframe thead th {\n",
              "        text-align: right;\n",
              "    }\n",
              "</style>\n",
              "<table border=\"1\" class=\"dataframe\">\n",
              "  <thead>\n",
              "    <tr style=\"text-align: right;\">\n",
              "      <th></th>\n",
              "      <th>meanfreq</th>\n",
              "      <th>sd</th>\n",
              "      <th>median</th>\n",
              "      <th>Q25</th>\n",
              "      <th>Q75</th>\n",
              "      <th>IQR</th>\n",
              "      <th>skew</th>\n",
              "      <th>kurt</th>\n",
              "      <th>sp.ent</th>\n",
              "      <th>sfm</th>\n",
              "      <th>mode</th>\n",
              "      <th>centroid</th>\n",
              "      <th>meanfun</th>\n",
              "      <th>minfun</th>\n",
              "      <th>maxfun</th>\n",
              "      <th>meandom</th>\n",
              "      <th>mindom</th>\n",
              "      <th>maxdom</th>\n",
              "      <th>dfrange</th>\n",
              "      <th>modindx</th>\n",
              "      <th>label</th>\n",
              "    </tr>\n",
              "  </thead>\n",
              "  <tbody>\n",
              "    <tr>\n",
              "      <th>2422</th>\n",
              "      <td>0.804564</td>\n",
              "      <td>0.154652</td>\n",
              "      <td>0.797725</td>\n",
              "      <td>0.776217</td>\n",
              "      <td>0.797305</td>\n",
              "      <td>0.084739</td>\n",
              "      <td>0.067746</td>\n",
              "      <td>0.005534</td>\n",
              "      <td>0.407593</td>\n",
              "      <td>0.204816</td>\n",
              "      <td>0.677233</td>\n",
              "      <td>0.804564</td>\n",
              "      <td>0.685611</td>\n",
              "      <td>0.194037</td>\n",
              "      <td>0.990585</td>\n",
              "      <td>0.400939</td>\n",
              "      <td>0.402151</td>\n",
              "      <td>0.394210</td>\n",
              "      <td>0.386266</td>\n",
              "      <td>0.089308</td>\n",
              "      <td>0.0</td>\n",
              "    </tr>\n",
              "    <tr>\n",
              "      <th>1658</th>\n",
              "      <td>0.517507</td>\n",
              "      <td>0.681546</td>\n",
              "      <td>0.666707</td>\n",
              "      <td>0.248876</td>\n",
              "      <td>0.753233</td>\n",
              "      <td>0.590302</td>\n",
              "      <td>0.067789</td>\n",
              "      <td>0.009366</td>\n",
              "      <td>0.930118</td>\n",
              "      <td>0.890253</td>\n",
              "      <td>0.753950</td>\n",
              "      <td>0.517507</td>\n",
              "      <td>0.789271</td>\n",
              "      <td>0.038425</td>\n",
              "      <td>0.880415</td>\n",
              "      <td>0.079850</td>\n",
              "      <td>0.006452</td>\n",
              "      <td>0.030021</td>\n",
              "      <td>0.030043</td>\n",
              "      <td>0.402535</td>\n",
              "      <td>0.0</td>\n",
              "    </tr>\n",
              "    <tr>\n",
              "      <th>1758</th>\n",
              "      <td>0.521446</td>\n",
              "      <td>0.463233</td>\n",
              "      <td>0.651982</td>\n",
              "      <td>0.344754</td>\n",
              "      <td>0.641929</td>\n",
              "      <td>0.382653</td>\n",
              "      <td>0.083642</td>\n",
              "      <td>0.009087</td>\n",
              "      <td>0.686052</td>\n",
              "      <td>0.618049</td>\n",
              "      <td>0.670143</td>\n",
              "      <td>0.521446</td>\n",
              "      <td>0.584307</td>\n",
              "      <td>0.042006</td>\n",
              "      <td>0.594812</td>\n",
              "      <td>0.263915</td>\n",
              "      <td>0.006452</td>\n",
              "      <td>0.284132</td>\n",
              "      <td>0.284335</td>\n",
              "      <td>0.172258</td>\n",
              "      <td>0.0</td>\n",
              "    </tr>\n",
              "    <tr>\n",
              "      <th>2476</th>\n",
              "      <td>0.842335</td>\n",
              "      <td>0.247808</td>\n",
              "      <td>0.813636</td>\n",
              "      <td>0.828695</td>\n",
              "      <td>0.893371</td>\n",
              "      <td>0.123353</td>\n",
              "      <td>0.085782</td>\n",
              "      <td>0.009452</td>\n",
              "      <td>0.402894</td>\n",
              "      <td>0.253935</td>\n",
              "      <td>0.726496</td>\n",
              "      <td>0.842335</td>\n",
              "      <td>0.711909</td>\n",
              "      <td>0.216466</td>\n",
              "      <td>0.972570</td>\n",
              "      <td>0.389886</td>\n",
              "      <td>0.040860</td>\n",
              "      <td>0.278413</td>\n",
              "      <td>0.277897</td>\n",
              "      <td>0.101288</td>\n",
              "      <td>0.0</td>\n",
              "    </tr>\n",
              "    <tr>\n",
              "      <th>2547</th>\n",
              "      <td>0.762080</td>\n",
              "      <td>0.175762</td>\n",
              "      <td>0.758677</td>\n",
              "      <td>0.735901</td>\n",
              "      <td>0.787934</td>\n",
              "      <td>0.117569</td>\n",
              "      <td>0.050078</td>\n",
              "      <td>0.002886</td>\n",
              "      <td>0.518384</td>\n",
              "      <td>0.265586</td>\n",
              "      <td>0.678571</td>\n",
              "      <td>0.762080</td>\n",
              "      <td>0.662756</td>\n",
              "      <td>0.202281</td>\n",
              "      <td>0.937749</td>\n",
              "      <td>0.444000</td>\n",
              "      <td>0.040860</td>\n",
              "      <td>0.986061</td>\n",
              "      <td>0.986052</td>\n",
              "      <td>0.037619</td>\n",
              "      <td>0.0</td>\n",
              "    </tr>\n",
              "  </tbody>\n",
              "</table>\n",
              "</div>"
            ],
            "text/plain": [
              "      meanfreq        sd    median  ...   dfrange   modindx  label\n",
              "2422  0.804564  0.154652  0.797725  ...  0.386266  0.089308    0.0\n",
              "1658  0.517507  0.681546  0.666707  ...  0.030043  0.402535    0.0\n",
              "1758  0.521446  0.463233  0.651982  ...  0.284335  0.172258    0.0\n",
              "2476  0.842335  0.247808  0.813636  ...  0.277897  0.101288    0.0\n",
              "2547  0.762080  0.175762  0.758677  ...  0.986052  0.037619    0.0\n",
              "\n",
              "[5 rows x 21 columns]"
            ]
          },
          "metadata": {},
          "execution_count": 11
        }
      ]
    },
    {
      "cell_type": "code",
      "metadata": {
        "_uuid": "01c6142330ed1ac21db52dd832e8d14b4a51ec91",
        "trusted": true,
        "id": "6Etr-ovtV2L7"
      },
      "source": [
        "x_train = train.iloc[:, :-1]\n",
        "y_train = train[\"label\"]\n",
        "x_test = test.iloc[:, :-1]\n",
        "y_test = test[\"label\"]"
      ],
      "execution_count": 12,
      "outputs": []
    },
    {
      "cell_type": "code",
      "metadata": {
        "_uuid": "2bd6aec294c52b30c4743002125da4e4e2c7a236",
        "trusted": true,
        "id": "lLDeyLljV2L8"
      },
      "source": [
        "x_train3 = train[[\"meanfun\",\"IQR\",\"Q25\"]]\n",
        "y_train3 = train[\"label\"]\n",
        "x_test3 = test[[\"meanfun\",\"IQR\",\"Q25\"]]\n",
        "y_test3 = test[\"label\"]"
      ],
      "execution_count": 13,
      "outputs": []
    },
    {
      "cell_type": "code",
      "metadata": {
        "_uuid": "06e2d94c86bbb87fbb404f41199af473562dd3ce",
        "trusted": true,
        "id": "h-SeLyPSV2L8"
      },
      "source": [
        "def classify(model,x_train,y_train,x_test,y_test):\n",
        "    from sklearn.metrics import classification_report\n",
        "    target_names = ['female', 'male']\n",
        "    model.fit(x_train,y_train)\n",
        "    y_pred=model.predict(x_test)\n",
        "    print(classification_report(y_test, y_pred, target_names=target_names, digits=4))"
      ],
      "execution_count": 14,
      "outputs": []
    },
    {
      "cell_type": "markdown",
      "metadata": {
        "_uuid": "1245212f815e4854a590e8e81f8775e220553fcc",
        "id": "gE1QrXMjV2L9"
      },
      "source": [
        "## K-Nearest Neighbors\n",
        "Using neighbors.KNeighborsClassifier() to build the model."
      ]
    },
    {
      "cell_type": "code",
      "metadata": {
        "_uuid": "c28957bd07a357a385f7b3fb5c5c6630e5b8ef51",
        "trusted": true,
        "id": "Jo4KvopmV2L9"
      },
      "source": [
        "def knn_error(k,x_train,y_train,x_test,y_test):\n",
        "    error_rate = []\n",
        "    K=range(1,k)\n",
        "    for i in K:\n",
        "        knn = neighbors.KNeighborsClassifier(n_neighbors = i)\n",
        "        knn.fit(x_train, y_train)\n",
        "        y_pred = knn.predict(x_test)\n",
        "        error_rate.append(np.mean(y_pred != y_test))\n",
        "    kloc = error_rate.index(min(error_rate))\n",
        "    print(\"Lowest error is %s occurs at k=%s.\" % (error_rate[kloc], K[kloc]))\n",
        "\n",
        "    plt.plot(K, error_rate, color='blue', linestyle='dashed', marker='o',\n",
        "             markerfacecolor='red', markersize=10)\n",
        "    plt.title('Error Rate vs. K Value')\n",
        "    plt.xlabel('K')\n",
        "    plt.ylabel('Error Rate')\n",
        "    plt.show()\n",
        "    return K[kloc]"
      ],
      "execution_count": 15,
      "outputs": []
    },
    {
      "cell_type": "code",
      "metadata": {
        "_uuid": "12db95c14b8359ef21411fa3bae4f8e36910b390",
        "trusted": true,
        "colab": {
          "base_uri": "https://localhost:8080/",
          "height": 312
        },
        "id": "zbRjBi4PV2L9",
        "outputId": "49692c88-62fe-4aac-8083-9823718e3375"
      },
      "source": [
        "k=knn_error(21,x_train,y_train,x_test,y_test)"
      ],
      "execution_count": 16,
      "outputs": [
        {
          "output_type": "stream",
          "name": "stdout",
          "text": [
            "Lowest error is 0.024185068349106203 occurs at k=4.\n"
          ]
        },
        {
          "output_type": "display_data",
          "data": {
            "image/png": "[encoded data removed]",
            "text/plain": [
              "<Figure size 432x288 with 1 Axes>"
            ]
          },
          "metadata": {
            "needs_background": "light"
          }
        }
      ]
    },
    {
      "cell_type": "code",
      "metadata": {
        "_uuid": "04045f8adb7d4f11bb105ae2339d411042944120",
        "trusted": true,
        "colab": {
          "base_uri": "https://localhost:8080/"
        },
        "id": "UcPnjbSAV2L9",
        "outputId": "89c55dab-ee93-48a4-f2c1-b66fac40a658"
      },
      "source": [
        "model = neighbors.KNeighborsClassifier(n_neighbors = k)\n",
        "classify(model,x_train,y_train,x_test,y_test)"
      ],
      "execution_count": 17,
      "outputs": [
        {
          "output_type": "stream",
          "name": "stdout",
          "text": [
            "              precision    recall  f1-score   support\n",
            "\n",
            "      female     0.9760    0.9779    0.9769       498\n",
            "        male     0.9757    0.9735    0.9746       453\n",
            "\n",
            "    accuracy                         0.9758       951\n",
            "   macro avg     0.9758    0.9757    0.9758       951\n",
            "weighted avg     0.9758    0.9758    0.9758       951\n",
            "\n"
          ]
        }
      ]
    },
    {
      "cell_type": "code",
      "metadata": {
        "_uuid": "9ff5ae616d921334b6078b269fce5315e6aff198",
        "trusted": true,
        "colab": {
          "base_uri": "https://localhost:8080/",
          "height": 312
        },
        "id": "6IUFxb-nV2L-",
        "outputId": "3b7a70bb-2e08-4a48-c86f-22656db44614"
      },
      "source": [
        "k=knn_error(21,x_train3,y_train3,x_test3,y_test3)"
      ],
      "execution_count": 18,
      "outputs": [
        {
          "output_type": "stream",
          "name": "stdout",
          "text": [
            "Lowest error is 0.031545741324921134 occurs at k=7.\n"
          ]
        },
        {
          "output_type": "display_data",
          "data": {
            "image/png": "[encoded data removed]",
            "text/plain": [
              "<Figure size 432x288 with 1 Axes>"
            ]
          },
          "metadata": {
            "needs_background": "light"
          }
        }
      ]
    },
    {
      "cell_type": "code",
      "metadata": {
        "_uuid": "a6673b594780364603ab4b2c7569e89fd2d300fa",
        "trusted": true,
        "colab": {
          "base_uri": "https://localhost:8080/"
        },
        "id": "Z4lwQWSLV2L-",
        "outputId": "b3898eaf-13d2-4016-ce98-fd606f053bb7"
      },
      "source": [
        "model = neighbors.KNeighborsClassifier(n_neighbors = k)\n",
        "classify(model,x_train,y_train,x_test,y_test)"
      ],
      "execution_count": 19,
      "outputs": [
        {
          "output_type": "stream",
          "name": "stdout",
          "text": [
            "              precision    recall  f1-score   support\n",
            "\n",
            "      female     0.9777    0.9699    0.9738       498\n",
            "        male     0.9672    0.9757    0.9714       453\n",
            "\n",
            "    accuracy                         0.9727       951\n",
            "   macro avg     0.9725    0.9728    0.9726       951\n",
            "weighted avg     0.9727    0.9727    0.9727       951\n",
            "\n"
          ]
        }
      ]
    },
    {
      "cell_type": "markdown",
      "metadata": {
        "_uuid": "7230fd72a64c9d5670906ec3c314b81c9e5b1c27",
        "id": "sGsrAqQDV2L-"
      },
      "source": [
        "## Naive Bayes\n",
        "Using naive_bayes.GaussianNB() to build the model."
      ]
    },
    {
      "cell_type": "code",
      "metadata": {
        "_uuid": "8beb4625e6551e30c6a27f0beab11901515dc892",
        "trusted": true,
        "colab": {
          "base_uri": "https://localhost:8080/"
        },
        "id": "UrnNdtCZV2L-",
        "outputId": "09e9c2ca-24b3-4a82-ff3f-edae5578af7f"
      },
      "source": [
        "model=naive_bayes.GaussianNB()\n",
        "classify(model,x_train,y_train,x_test,y_test)"
      ],
      "execution_count": 20,
      "outputs": [
        {
          "output_type": "stream",
          "name": "stdout",
          "text": [
            "              precision    recall  f1-score   support\n",
            "\n",
            "      female     0.9208    0.8876    0.9039       498\n",
            "        male     0.8811    0.9161    0.8983       453\n",
            "\n",
            "    accuracy                         0.9012       951\n",
            "   macro avg     0.9010    0.9018    0.9011       951\n",
            "weighted avg     0.9019    0.9012    0.9012       951\n",
            "\n"
          ]
        }
      ]
    },
    {
      "cell_type": "code",
      "metadata": {
        "_uuid": "71535d01e7eedb6d106edcb9fef4806a84f771ec",
        "trusted": true,
        "colab": {
          "base_uri": "https://localhost:8080/"
        },
        "id": "SdDXY3xOV2L-",
        "outputId": "cf080805-705f-4772-b2a5-f6d1aa0857cd"
      },
      "source": [
        "model=naive_bayes.GaussianNB()\n",
        "classify(model,x_train3,y_train3,x_test3,y_test3)"
      ],
      "execution_count": 21,
      "outputs": [
        {
          "output_type": "stream",
          "name": "stdout",
          "text": [
            "              precision    recall  f1-score   support\n",
            "\n",
            "      female     0.9773    0.9518    0.9644       498\n",
            "        male     0.9485    0.9757    0.9619       453\n",
            "\n",
            "    accuracy                         0.9632       951\n",
            "   macro avg     0.9629    0.9638    0.9632       951\n",
            "weighted avg     0.9636    0.9632    0.9632       951\n",
            "\n"
          ]
        }
      ]
    },
    {
      "cell_type": "markdown",
      "metadata": {
        "_uuid": "a67d4259bc76a4a773fa1edef2de80cca35cd364",
        "id": "_Kd_Eu_IV2L_"
      },
      "source": [
        "## Decision Tree\n",
        "Using tree.DecisionTreeClassifier() to build the model."
      ]
    },
    {
      "cell_type": "code",
      "metadata": {
        "_uuid": "a4a8ad5d33e2ee2c10ae0cf4196a3698cc888db5",
        "trusted": true,
        "id": "_BTwuOCSV2L_"
      },
      "source": [
        "#Find the best parameter to prune the tree\n",
        "def dt_error(n,x_train,y_train,x_test,y_test):\n",
        "    nodes = range(2, n)\n",
        "    error_rate = []\n",
        "    for k in nodes:\n",
        "        model = tree.DecisionTreeClassifier(max_leaf_nodes=k)\n",
        "        model.fit(x_train, y_train)\n",
        "        y_pred = model.predict(x_test)\n",
        "        error_rate.append(np.mean(y_pred != y_test))\n",
        "    kloc = error_rate.index(min(error_rate))\n",
        "    print(\"Lowest error is %s occurs at n=%s.\" % (error_rate[kloc], nodes[kloc]))\n",
        "    plt.plot(nodes, error_rate, color='blue', linestyle='dashed', marker='o',\n",
        "             markerfacecolor='red', markersize=10)\n",
        "    plt.xlabel('Tree Size')\n",
        "    plt.ylabel('Cross-Validated MSE')\n",
        "    plt.show()\n",
        "    return nodes[kloc]"
      ],
      "execution_count": 22,
      "outputs": []
    },
    {
      "cell_type": "code",
      "metadata": {
        "_uuid": "af8229e428283c3e6254c8c3ffc74a717f48f248",
        "trusted": true,
        "colab": {
          "base_uri": "https://localhost:8080/",
          "height": 296
        },
        "id": "EYgqNp0EV2L_",
        "outputId": "493e854a-1c6f-4921-db27-ae3179be9c07"
      },
      "source": [
        "n=dt_error(10,x_train,y_train,x_test,y_test)"
      ],
      "execution_count": 23,
      "outputs": [
        {
          "output_type": "stream",
          "name": "stdout",
          "text": [
            "Lowest error is 0.03785488958990536 occurs at n=8.\n"
          ]
        },
        {
          "output_type": "display_data",
          "data": {
            "image/png": "[encoded data removed]",
            "text/plain": [
              "<Figure size 432x288 with 1 Axes>"
            ]
          },
          "metadata": {
            "needs_background": "light"
          }
        }
      ]
    },
    {
      "cell_type": "code",
      "metadata": {
        "_uuid": "54c055d4acd416dae177ee7475aa5603cf0e9c50",
        "trusted": true,
        "colab": {
          "base_uri": "https://localhost:8080/"
        },
        "id": "n72MhDd2V2L_",
        "outputId": "d9524077-2cee-47b9-e868-4eea09d82cf2"
      },
      "source": [
        "#prune tree\n",
        "pruned_tree = tree.DecisionTreeClassifier(criterion = 'gini', max_leaf_nodes = n)\n",
        "classify(pruned_tree,x_train,y_train,x_test,y_test)"
      ],
      "execution_count": 24,
      "outputs": [
        {
          "output_type": "stream",
          "name": "stdout",
          "text": [
            "              precision    recall  f1-score   support\n",
            "\n",
            "      female     0.9639    0.9639    0.9639       498\n",
            "        male     0.9603    0.9603    0.9603       453\n",
            "\n",
            "    accuracy                         0.9621       951\n",
            "   macro avg     0.9621    0.9621    0.9621       951\n",
            "weighted avg     0.9621    0.9621    0.9621       951\n",
            "\n"
          ]
        }
      ]
    },
    {
      "cell_type": "code",
      "metadata": {
        "_uuid": "3d952f002e7a8f332b5981ba536d245d8fb5f996",
        "trusted": true,
        "colab": {
          "base_uri": "https://localhost:8080/",
          "height": 296
        },
        "id": "FygzIadGV2L_",
        "outputId": "ce70ebdf-5f84-4622-9738-f0ffeeddaab4"
      },
      "source": [
        "n=dt_error(15,x_train3,y_train3,x_test3,y_test3)"
      ],
      "execution_count": 25,
      "outputs": [
        {
          "output_type": "stream",
          "name": "stdout",
          "text": [
            "Lowest error is 0.03470031545741325 occurs at n=9.\n"
          ]
        },
        {
          "output_type": "display_data",
          "data": {
            "image/png": "[encoded data removed]",
            "text/plain": [
              "<Figure size 432x288 with 1 Axes>"
            ]
          },
          "metadata": {
            "needs_background": "light"
          }
        }
      ]
    },
    {
      "cell_type": "code",
      "metadata": {
        "_uuid": "da7411ddc1ddfa28b78abffbb482bb146c521ce5",
        "trusted": true,
        "colab": {
          "base_uri": "https://localhost:8080/"
        },
        "id": "RNk8d7ZmV2L_",
        "outputId": "bc589a26-7372-4450-eacd-624d63280a0a"
      },
      "source": [
        "#prune tree\n",
        "pruned_tree = tree.DecisionTreeClassifier(criterion = 'gini', max_leaf_nodes = n)\n",
        "classify(pruned_tree,x_train3,y_train3,x_test3,y_test3)"
      ],
      "execution_count": 26,
      "outputs": [
        {
          "output_type": "stream",
          "name": "stdout",
          "text": [
            "              precision    recall  f1-score   support\n",
            "\n",
            "      female     0.9774    0.9558    0.9665       498\n",
            "        male     0.9526    0.9757    0.9640       453\n",
            "\n",
            "    accuracy                         0.9653       951\n",
            "   macro avg     0.9650    0.9658    0.9653       951\n",
            "weighted avg     0.9656    0.9653    0.9653       951\n",
            "\n"
          ]
        }
      ]
    },
    {
      "cell_type": "markdown",
      "metadata": {
        "_uuid": "46a4988ac7ad003d816312ecfd64f00b8c67c039",
        "id": "_EJ8z610V2MA"
      },
      "source": [
        "## Random Forest\n",
        "Using ensemble.RandomForestClassifier() to build the model."
      ]
    },
    {
      "cell_type": "code",
      "metadata": {
        "_uuid": "2fc71fce9ffd6cb0ab72c121f64c58543d4a0e46",
        "trusted": true,
        "id": "LOu3XRfTV2MA"
      },
      "source": [
        "def rf_error(n,x_train,y_train,x_test,y_test):\n",
        "    error_rate = []\n",
        "    e=range(1,n,20)\n",
        "    for i in e:\n",
        "        model = ensemble.RandomForestClassifier(n_estimators = i)\n",
        "        model.fit(x_train, y_train)\n",
        "        y_pred = model.predict(x_test)\n",
        "        error_rate.append(np.mean(y_pred != y_test))\n",
        "    nloc = error_rate.index(min(error_rate))\n",
        "    print(\"Lowest error is %s occurs at n=%s.\" % (error_rate[nloc], e[nloc]))\n",
        "\n",
        "    plt.plot(e, error_rate, color='blue', linestyle='dashed', marker='o',\n",
        "             markerfacecolor='red', markersize=10)\n",
        "    plt.title('Error Rate vs. n Value')\n",
        "    plt.xlabel('n')\n",
        "    plt.ylabel('Error Rate')\n",
        "    plt.show()\n",
        "    return e[nloc]"
      ],
      "execution_count": 27,
      "outputs": []
    },
    {
      "cell_type": "code",
      "metadata": {
        "_uuid": "089b35675746b29a608ccacb4fcfd4f927b289ff",
        "trusted": true,
        "colab": {
          "base_uri": "https://localhost:8080/",
          "height": 312
        },
        "id": "58jHAoQ9V2MA",
        "outputId": "0ad18e8d-4062-4922-b38c-42b93f1389e0"
      },
      "source": [
        "e=rf_error(100,x_train,y_train,x_test,y_test)"
      ],
      "execution_count": 28,
      "outputs": [
        {
          "output_type": "stream",
          "name": "stdout",
          "text": [
            "Lowest error is 0.027339642481598318 occurs at n=21.\n"
          ]
        },
        {
          "output_type": "display_data",
          "data": {
            "image/png": "[encoded data removed]",
            "text/plain": [
              "<Figure size 432x288 with 1 Axes>"
            ]
          },
          "metadata": {
            "needs_background": "light"
          }
        }
      ]
    },
    {
      "cell_type": "code",
      "metadata": {
        "_uuid": "3aab2b9d4f745267e4e6750743c85087a8d21768",
        "trusted": true,
        "colab": {
          "base_uri": "https://localhost:8080/"
        },
        "id": "O-VslKtEV2MA",
        "outputId": "9e0e4a37-ac14-4041-d29d-afb3d497b78d"
      },
      "source": [
        "model=ensemble.RandomForestClassifier(n_estimators = e)\n",
        "classify(model,x_train,y_train,x_test,y_test)"
      ],
      "execution_count": 29,
      "outputs": [
        {
          "output_type": "stream",
          "name": "stdout",
          "text": [
            "              precision    recall  f1-score   support\n",
            "\n",
            "      female     0.9738    0.9699    0.9718       498\n",
            "        male     0.9670    0.9713    0.9692       453\n",
            "\n",
            "    accuracy                         0.9706       951\n",
            "   macro avg     0.9704    0.9706    0.9705       951\n",
            "weighted avg     0.9706    0.9706    0.9706       951\n",
            "\n"
          ]
        }
      ]
    },
    {
      "cell_type": "code",
      "metadata": {
        "_uuid": "6c8c329facf1f45557324e65e33972f8ad5fe163",
        "trusted": true,
        "colab": {
          "base_uri": "https://localhost:8080/",
          "height": 312
        },
        "id": "bU5BMX6zV2MA",
        "outputId": "ff3be482-61de-4b8f-9827-87b8a6097ae6"
      },
      "source": [
        "e=rf_error(100,x_train3,y_train3,x_test3,y_test3)"
      ],
      "execution_count": 30,
      "outputs": [
        {
          "output_type": "stream",
          "name": "stdout",
          "text": [
            "Lowest error is 0.031545741324921134 occurs at n=21.\n"
          ]
        },
        {
          "output_type": "display_data",
          "data": {
            "image/png": "[encoded data removed]",
            "text/plain": [
              "<Figure size 432x288 with 1 Axes>"
            ]
          },
          "metadata": {
            "needs_background": "light"
          }
        }
      ]
    },
    {
      "cell_type": "code",
      "metadata": {
        "_uuid": "7bb4b71e9ddd155114b8a57f053d8ec49cc38d8f",
        "trusted": true,
        "colab": {
          "base_uri": "https://localhost:8080/"
        },
        "id": "DUzaWQ6jV2MB",
        "outputId": "3b6f3ef5-3a4d-400d-e32b-a497c59a3418"
      },
      "source": [
        "model=ensemble.RandomForestClassifier(n_estimators = e)\n",
        "classify(model,x_train3,y_train3,x_test3,y_test3)"
      ],
      "execution_count": 31,
      "outputs": [
        {
          "output_type": "stream",
          "name": "stdout",
          "text": [
            "              precision    recall  f1-score   support\n",
            "\n",
            "      female     0.9717    0.9639    0.9677       498\n",
            "        male     0.9606    0.9691    0.9648       453\n",
            "\n",
            "    accuracy                         0.9664       951\n",
            "   macro avg     0.9661    0.9665    0.9663       951\n",
            "weighted avg     0.9664    0.9664    0.9664       951\n",
            "\n"
          ]
        }
      ]
    },
    {
      "cell_type": "markdown",
      "metadata": {
        "_uuid": "dd8997fc20c7d47ebf1dd0acd2099c54c35ab90f",
        "id": "pCGgjcXlV2MB"
      },
      "source": [
        "## XgBoost\n",
        "Using xgboost.XGBClassifier() to build the model."
      ]
    },
    {
      "cell_type": "code",
      "metadata": {
        "_uuid": "8f620ed8ffd579ae81ae0c192c5ad237d3231d90",
        "trusted": true,
        "colab": {
          "base_uri": "https://localhost:8080/"
        },
        "id": "Q3x_AdRkV2MB",
        "outputId": "44737d54-b36d-454c-d8ef-f7b28c4b9fc6"
      },
      "source": [
        "model = xgboost.XGBClassifier()\n",
        "classify(model,x_train,y_train,x_test,y_test)"
      ],
      "execution_count": 32,
      "outputs": [
        {
          "output_type": "stream",
          "name": "stdout",
          "text": [
            "              precision    recall  f1-score   support\n",
            "\n",
            "      female     0.9739    0.9739    0.9739       498\n",
            "        male     0.9713    0.9713    0.9713       453\n",
            "\n",
            "    accuracy                         0.9727       951\n",
            "   macro avg     0.9726    0.9726    0.9726       951\n",
            "weighted avg     0.9727    0.9727    0.9727       951\n",
            "\n"
          ]
        }
      ]
    },
    {
      "cell_type": "code",
      "metadata": {
        "_uuid": "2ddab8a4cb2ca7f0b01982d648e475b197b134dd",
        "trusted": true,
        "colab": {
          "base_uri": "https://localhost:8080/"
        },
        "id": "TGzD0iHMV2MB",
        "outputId": "2c7e0af4-5e56-4593-fbbb-eb346cd43b9b"
      },
      "source": [
        "model = xgboost.XGBClassifier()\n",
        "classify(model,x_train3,y_train3,x_test3,y_test3)"
      ],
      "execution_count": 33,
      "outputs": [
        {
          "output_type": "stream",
          "name": "stdout",
          "text": [
            "              precision    recall  f1-score   support\n",
            "\n",
            "      female     0.9733    0.9498    0.9614       498\n",
            "        male     0.9462    0.9713    0.9586       453\n",
            "\n",
            "    accuracy                         0.9600       951\n",
            "   macro avg     0.9597    0.9606    0.9600       951\n",
            "weighted avg     0.9604    0.9600    0.9601       951\n",
            "\n"
          ]
        }
      ]
    },
    {
      "cell_type": "markdown",
      "metadata": {
        "_uuid": "34c7370162c458860e4482c5603251a1beea8a79",
        "id": "OXeYn8heV2MB"
      },
      "source": [
        "## Support Vector Machine\n",
        "Using svm.SVC() to build the model."
      ]
    },
    {
      "cell_type": "code",
      "metadata": {
        "_uuid": "08f613ebc0246c91fcbc3bac0d5c3d98f926fd53",
        "trusted": true,
        "id": "1zahr-4_V2MB"
      },
      "source": [
        "def svm_kernel(x_train,y_train,x_test,y_test):\n",
        "    rate=[]\n",
        "    kernel=['rbf','poly','linear']\n",
        "    for i in kernel:\n",
        "        model=svm.SVC(kernel=i).fit(x_train,y_train)\n",
        "        y_pred=model.predict(x_train)\n",
        "        print(i, ' in-sample accuracy in SVM: ', accuracy_score(y_train,y_pred))\n",
        "        y_pred=model.predict(x_test)\n",
        "        print(i, ' out-of-sample accuracy in SVM: ', accuracy_score(y_test,y_pred))\n",
        "        rate.append(accuracy_score(y_test,y_pred))\n",
        "    nloc = rate.index(max(rate))\n",
        "    print(\"Highest accuracy is %s occurs at %s kernel.\" % (rate[nloc], kernel[nloc]))\n",
        "    return kernel[nloc]"
      ],
      "execution_count": 34,
      "outputs": []
    },
    {
      "cell_type": "code",
      "metadata": {
        "_uuid": "24e66b1e5dfa56f7412c8838cbe8a3c8adc715b2",
        "trusted": true,
        "id": "UKSjpmviV2MC"
      },
      "source": [
        "def svm_error(k,C,x_train,y_train,x_test,y_test):\n",
        "    error_rate = []\n",
        "    C=range(1,C)\n",
        "    for i in C:\n",
        "        model=svm.SVC(kernel=k,C=i).fit(x_train,y_train)\n",
        "        model.fit(x_train, y_train)\n",
        "        y_pred = model.predict(x_test)\n",
        "        error_rate.append(np.mean(y_pred != y_test))\n",
        "    cloc = error_rate.index(min(error_rate))\n",
        "    print(\"Lowest error is %s occurs at C=%s.\" % (error_rate[cloc], C[cloc]))\n",
        "\n",
        "    plt.plot(C, error_rate, color='blue', linestyle='dashed', marker='o',\n",
        "             markerfacecolor='red', markersize=10)\n",
        "    plt.title('Error Rate vs. C Value')\n",
        "    plt.xlabel('C')\n",
        "    plt.ylabel('Error Rate')\n",
        "    plt.show()\n",
        "    return C[cloc]"
      ],
      "execution_count": 35,
      "outputs": []
    },
    {
      "cell_type": "code",
      "metadata": {
        "_uuid": "44e8e2489c6fa478855fc0b0bd51cf974b5bda95",
        "trusted": true,
        "colab": {
          "base_uri": "https://localhost:8080/"
        },
        "id": "iCoLyv46V2MC",
        "outputId": "faf38706-fd35-41a0-ac9f-0103bba256ba"
      },
      "source": [
        "k=svm_kernel(x_train,y_train,x_test,y_test)"
      ],
      "execution_count": 36,
      "outputs": [
        {
          "output_type": "stream",
          "name": "stdout",
          "text": [
            "rbf  in-sample accuracy in SVM:  0.9828597203428056\n",
            "rbf  out-of-sample accuracy in SVM:  0.9695057833859095\n",
            "poly  in-sample accuracy in SVM:  0.984212900315742\n",
            "poly  out-of-sample accuracy in SVM:  0.9716088328075709\n",
            "linear  in-sample accuracy in SVM:  0.9792512404149752\n",
            "linear  out-of-sample accuracy in SVM:  0.9652996845425867\n",
            "Highest accuracy is 0.9716088328075709 occurs at poly kernel.\n"
          ]
        }
      ]
    },
    {
      "cell_type": "code",
      "metadata": {
        "_uuid": "5f4eeafdcc4adb58e3c1b0e36f8aad6cdfa8c5bb",
        "trusted": true,
        "colab": {
          "base_uri": "https://localhost:8080/",
          "height": 312
        },
        "id": "jy1pg24BV2MC",
        "outputId": "404215f1-94e6-4f7d-94a9-dc5a92ff7164"
      },
      "source": [
        "c=svm_error(k,10,x_train,y_train,x_test,y_test)"
      ],
      "execution_count": 37,
      "outputs": [
        {
          "output_type": "stream",
          "name": "stdout",
          "text": [
            "Lowest error is 0.026288117770767613 occurs at C=9.\n"
          ]
        },
        {
          "output_type": "display_data",
          "data": {
            "image/png": "[encoded data removed]",
            "text/plain": [
              "<Figure size 432x288 with 1 Axes>"
            ]
          },
          "metadata": {
            "needs_background": "light"
          }
        }
      ]
    },
    {
      "cell_type": "code",
      "metadata": {
        "_uuid": "b57af1c5acc2d6bb749a9f12d0f78929be0baa6c",
        "trusted": true,
        "colab": {
          "base_uri": "https://localhost:8080/"
        },
        "id": "LPIpT_g3V2MC",
        "outputId": "902ecfb0-4a8a-491d-b624-4c03edf94764"
      },
      "source": [
        "model=svm.SVC(kernel=k,C=c)\n",
        "classify(model,x_train,y_train,x_test,y_test)"
      ],
      "execution_count": 38,
      "outputs": [
        {
          "output_type": "stream",
          "name": "stdout",
          "text": [
            "              precision    recall  f1-score   support\n",
            "\n",
            "      female     0.9739    0.9759    0.9749       498\n",
            "        male     0.9735    0.9713    0.9724       453\n",
            "\n",
            "    accuracy                         0.9737       951\n",
            "   macro avg     0.9737    0.9736    0.9737       951\n",
            "weighted avg     0.9737    0.9737    0.9737       951\n",
            "\n"
          ]
        }
      ]
    },
    {
      "cell_type": "code",
      "metadata": {
        "_uuid": "83338e6607af41d53d272376d0295ba399d46ab9",
        "trusted": true,
        "colab": {
          "base_uri": "https://localhost:8080/"
        },
        "id": "Ix7V1TRWV2MC",
        "outputId": "b59c0311-a185-4ed8-de57-2cbc213c7c0a"
      },
      "source": [
        "k=svm_kernel(x_train3,y_train3,x_test3,y_test3)"
      ],
      "execution_count": 39,
      "outputs": [
        {
          "output_type": "stream",
          "name": "stdout",
          "text": [
            "rbf  in-sample accuracy in SVM:  0.975191700496166\n",
            "rbf  out-of-sample accuracy in SVM:  0.9621451104100947\n",
            "poly  in-sample accuracy in SVM:  0.9747406405051872\n",
            "poly  out-of-sample accuracy in SVM:  0.961093585699264\n",
            "linear  in-sample accuracy in SVM:  0.9711321605773567\n",
            "linear  out-of-sample accuracy in SVM:  0.9547844374342797\n",
            "Highest accuracy is 0.9621451104100947 occurs at rbf kernel.\n"
          ]
        }
      ]
    },
    {
      "cell_type": "code",
      "metadata": {
        "_uuid": "e6e5c9857c5c254adcc3db090add93286c5e6eb5",
        "trusted": true,
        "colab": {
          "base_uri": "https://localhost:8080/",
          "height": 312
        },
        "id": "9BM-auiSV2MC",
        "outputId": "29f913b4-a73d-418b-9f6b-fef0ff159d4c"
      },
      "source": [
        "c=svm_error(k,10,x_train3,y_train3,x_test3,y_test3)"
      ],
      "execution_count": 40,
      "outputs": [
        {
          "output_type": "stream",
          "name": "stdout",
          "text": [
            "Lowest error is 0.029442691903259727 occurs at C=5.\n"
          ]
        },
        {
          "output_type": "display_data",
          "data": {
            "image/png": "[encoded data removed]",
            "text/plain": [
              "<Figure size 432x288 with 1 Axes>"
            ]
          },
          "metadata": {
            "needs_background": "light"
          }
        }
      ]
    },
    {
      "cell_type": "code",
      "metadata": {
        "_uuid": "bd6da99232ae6ef54464deb33e97693667c2ca73",
        "trusted": true,
        "colab": {
          "base_uri": "https://localhost:8080/"
        },
        "id": "arA4v7P5V2MD",
        "outputId": "fb3431d8-7774-4ca2-d3dd-3b298d3de81b"
      },
      "source": [
        "model=svm.SVC(kernel=k,C=c)\n",
        "classify(model,x_train3,y_train3,x_test3,y_test3)"
      ],
      "execution_count": 41,
      "outputs": [
        {
          "output_type": "stream",
          "name": "stdout",
          "text": [
            "              precision    recall  f1-score   support\n",
            "\n",
            "      female     0.9757    0.9679    0.9718       498\n",
            "        male     0.9650    0.9735    0.9692       453\n",
            "\n",
            "    accuracy                         0.9706       951\n",
            "   macro avg     0.9703    0.9707    0.9705       951\n",
            "weighted avg     0.9706    0.9706    0.9706       951\n",
            "\n"
          ]
        }
      ]
    },
    {
      "cell_type": "markdown",
      "metadata": {
        "_uuid": "c23858a034bc9f92745dbf689aa8a975999581f1",
        "id": "6YD2k61rV2MD"
      },
      "source": [
        "## Neural Network\n",
        "Using neural_network.MLPClassifier to build the model."
      ]
    },
    {
      "cell_type": "code",
      "metadata": {
        "_uuid": "2da26483ae2626a956fb99a724ee1e23975bc800",
        "trusted": true,
        "id": "WJx9UWvvV2MD"
      },
      "source": [
        "def nn_error(n,x_train,y_train,x_test,y_test):\n",
        "    error_rate = []\n",
        "    hidden_layer=range(1,n)\n",
        "    for i in hidden_layer:\n",
        "        model = neural_network.MLPClassifier(solver='adam', alpha=1e-5,\n",
        "                                       hidden_layer_sizes=i,\n",
        "                                       activation='logistic',random_state=17,\n",
        "                                       max_iter=2000)\n",
        "        model.fit(x_train, y_train)\n",
        "        y_pred = model.predict(x_test)\n",
        "        error_rate.append(np.mean(y_pred != y_test))\n",
        "    kloc = error_rate.index(min(error_rate))\n",
        "    print(\"Lowest error is %s occurs at C=%s.\" % (error_rate[kloc], hidden_layer[kloc]))\n",
        "\n",
        "    plt.plot(hidden_layer, error_rate, color='blue', linestyle='dashed', marker='o',\n",
        "             markerfacecolor='red', markersize=10)\n",
        "    plt.title('Error Rate vs. Hidden Layer Size')\n",
        "    plt.xlabel('Size')\n",
        "    plt.ylabel('Error Rate')\n",
        "    plt.show()\n",
        "    return hidden_layer[kloc]"
      ],
      "execution_count": 42,
      "outputs": []
    },
    {
      "cell_type": "code",
      "metadata": {
        "_uuid": "b20c9304c6d87c194020471ae3c7af05c3cfee97",
        "trusted": true,
        "colab": {
          "base_uri": "https://localhost:8080/",
          "height": 312
        },
        "id": "DIavRwAkV2MD",
        "outputId": "c56dc6b5-c782-461b-9cd4-a98387370039"
      },
      "source": [
        "h=nn_error(20,x_train,y_train,x_test,y_test)"
      ],
      "execution_count": 43,
      "outputs": [
        {
          "output_type": "stream",
          "name": "stdout",
          "text": [
            "Lowest error is 0.03680336487907466 occurs at C=7.\n"
          ]
        },
        {
          "output_type": "display_data",
          "data": {
            "image/png": "[encoded data removed]",
            "text/plain": [
              "<Figure size 432x288 with 1 Axes>"
            ]
          },
          "metadata": {
            "needs_background": "light"
          }
        }
      ]
    },
    {
      "cell_type": "code",
      "metadata": {
        "_uuid": "71872aedd78f1b82bb97b01fe01d69cee119fc67",
        "trusted": true,
        "colab": {
          "base_uri": "https://localhost:8080/"
        },
        "id": "K2xK1K0lV2MD",
        "outputId": "84dd7d2b-176a-4cb1-bed2-6d9497edc097"
      },
      "source": [
        "model = neural_network.MLPClassifier(solver='adam', alpha=1e-5,\n",
        "                                       hidden_layer_sizes=h,\n",
        "                                       activation='logistic',random_state=17,\n",
        "                                       max_iter=2000)\n",
        "classify(model,x_train,y_train,x_test,y_test)"
      ],
      "execution_count": 44,
      "outputs": [
        {
          "output_type": "stream",
          "name": "stdout",
          "text": [
            "              precision    recall  f1-score   support\n",
            "\n",
            "      female     0.9754    0.9538    0.9645       498\n",
            "        male     0.9504    0.9735    0.9618       453\n",
            "\n",
            "    accuracy                         0.9632       951\n",
            "   macro avg     0.9629    0.9637    0.9631       951\n",
            "weighted avg     0.9635    0.9632    0.9632       951\n",
            "\n"
          ]
        }
      ]
    },
    {
      "cell_type": "code",
      "metadata": {
        "_uuid": "c2bae0868755af334360d923b59dc57723eaadca",
        "trusted": true,
        "colab": {
          "base_uri": "https://localhost:8080/",
          "height": 312
        },
        "id": "gUB_v13QV2MD",
        "outputId": "2ca63c2b-d27f-44e9-c6ec-502ec0cac6f6"
      },
      "source": [
        "h=nn_error(20,x_train3,y_train3,x_test3,y_test3)"
      ],
      "execution_count": 45,
      "outputs": [
        {
          "output_type": "stream",
          "name": "stdout",
          "text": [
            "Lowest error is 0.03995793901156677 occurs at C=5.\n"
          ]
        },
        {
          "output_type": "display_data",
          "data": {
            "image/png": "[encoded data removed]",
            "text/plain": [
              "<Figure size 432x288 with 1 Axes>"
            ]
          },
          "metadata": {
            "needs_background": "light"
          }
        }
      ]
    },
    {
      "cell_type": "code",
      "metadata": {
        "_uuid": "371a5ed6e7b31ca3caf282e93b641e39b0f18e2d",
        "trusted": true,
        "colab": {
          "base_uri": "https://localhost:8080/"
        },
        "id": "_YmFZF8TV2ME",
        "outputId": "3037d3bc-e836-43d5-fa4c-601077b184bf"
      },
      "source": [
        "model = neural_network.MLPClassifier(solver='adam', alpha=1e-5,\n",
        "                                       hidden_layer_sizes=h,\n",
        "                                       activation='logistic',random_state=17,\n",
        "                                       max_iter=2000)\n",
        "classify(model,x_train3,y_train3,x_test3,y_test3)"
      ],
      "execution_count": 46,
      "outputs": [
        {
          "output_type": "stream",
          "name": "stdout",
          "text": [
            "              precision    recall  f1-score   support\n",
            "\n",
            "      female     0.9772    0.9458    0.9612       498\n",
            "        male     0.9424    0.9757    0.9588       453\n",
            "\n",
            "    accuracy                         0.9600       951\n",
            "   macro avg     0.9598    0.9608    0.9600       951\n",
            "weighted avg     0.9606    0.9600    0.9601       951\n",
            "\n"
          ]
        }
      ]
    },
    {
      "cell_type": "markdown",
      "metadata": {
        "_uuid": "8b80a08a7a1beb133c01cbca921b199ba4f1c8b1",
        "id": "SVl8hUw6V2ME"
      },
      "source": [
        "We can see that the highest accurracy is 98.74% which is made by XgBoost. XgBoost is a powerful algorithm, and very popular in Data Science competition. Next time I will try to oppotimize the parameters of XgBoost."
      ]
    },
    {
      "cell_type": "code",
      "metadata": {
        "_uuid": "19d364d29be43bc856b31f0ddec1d5a50a88e2c5",
        "trusted": true,
        "id": "8B8Ndb5lV2ME"
      },
      "source": [
        ""
      ],
      "execution_count": null,
      "outputs": []
    }
  ]
}